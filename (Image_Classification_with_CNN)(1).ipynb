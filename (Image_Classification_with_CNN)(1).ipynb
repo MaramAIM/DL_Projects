{
  "cells": [
    {
      "cell_type": "markdown",
      "metadata": {
        "id": "U5w9PwraV4XG"
      },
      "source": [
        "<h1 style=\"text-align: center;\">Deep Learning<br\n",
        "><br>Image Classification with CNN<br><h1>"
      ]
    },
    {
      "cell_type": "markdown",
      "metadata": {
        "id": "rcBkfH-RV4XG"
      },
      "source": [
        "# Task and Dataset Info\n",
        "\n",
        "Welcome to second assignment of Deep learning lesson. Follow the instructions and complete the assignment.\n",
        "\n",
        "**Build an image classifier with Convolutional Neural Networks for the Fashion MNIST dataset. This data set includes 10 labels of different clothing types with 28 by 28 *grayscale* images. There is a training set of 60,000 images and 10,000 test images.**\n",
        "\n",
        "    Label\tDescription\n",
        "    0\t    T-shirt/top\n",
        "    1\t    Trouser\n",
        "    2\t    Pullover\n",
        "    3\t    Dress\n",
        "    4\t    Coat\n",
        "    5\t    Sandal\n",
        "    6\t    Shirt\n",
        "    7\t    Sneaker\n",
        "    8\t    Bag\n",
        "    9\t    Ankle boot"
      ]
    },
    {
      "cell_type": "markdown",
      "metadata": {
        "id": "4OJJN5ScV4XH"
      },
      "source": [
        "# Import Libraries"
      ]
    },
    {
      "cell_type": "code",
      "execution_count": null,
      "metadata": {
        "id": "yYQgzBTLV4XH"
      },
      "outputs": [],
      "source": [
        "# Importing our libraries\n",
        "#------------------------------------------------------------------------------------------------------\n",
        "\n",
        "import matplotlib.pyplot as plt\n",
        "import seaborn as sns\n",
        "from ipywidgets import interact\n",
        "\n",
        "import numpy as np\n",
        "import pandas as pd\n",
        "import tensorflow as tf\n",
        "from sklearn.preprocessing import MinMaxScaler, StandardScaler,OneHotEncoder, LabelEncoder\n",
        "from sklearn.compose import make_column_transformer\n",
        "from sklearn.model_selection import train_test_split\n",
        "from sklearn.metrics import accuracy_score, confusion_matrix, classification_report, ConfusionMatrixDisplay,roc_curve, auc, precision_score, recall_score, accuracy_score, f1_score\n",
        "import pickle\n",
        "from tensorflow.keras.models import Sequential, load_model\n",
        "from tensorflow.keras.layers import Input,Dense, Activation, Conv2D,MaxPool2D,Flatten,Dropout\n",
        "from tensorflow.keras.optimizers import Adam, Adadelta, RMSprop, Nadam\n",
        "from tensorflow.keras.callbacks import EarlyStopping\n",
        "import os\n",
        "import random\n",
        "plt.rcParams[\"figure.figsize\"] = (10, 6)\n",
        "\n",
        "sns.set_style(\"whitegrid\")\n",
        "pd.set_option(\"display.float_format\", lambda x: \"%.3f\" % x)"
      ]
    },
    {
      "cell_type": "code",
      "execution_count": null,
      "metadata": {
        "id": "cOlzmeVcV4XI",
        "outputId": "cfc270b9-98e6-44d0-8c5d-73bf001b0f63"
      },
      "outputs": [
        {
          "name": "stdout",
          "output_type": "stream",
          "text": [
            "GPU support is enabled for this session.\n"
          ]
        }
      ],
      "source": [
        "# Checking whether the GPU is supported in the session\n",
        "#------------------------------------------------------------------------------------------------------\n",
        "\n",
        "if tf.config.list_physical_devices(\"GPU\"):\n",
        "    print(\"GPU support is enabled for this session.\")\n",
        "else:\n",
        "    print(\"CPU will be used for this session.\")"
      ]
    },
    {
      "cell_type": "code",
      "execution_count": null,
      "metadata": {
        "id": "2McIssa2V4XJ"
      },
      "outputs": [],
      "source": [
        "# Setting the seed to be the same in every type of configuration to get the same results always\n",
        "#------------------------------------------------------------------------------------------------------\n",
        "\n",
        "SEED = 42\n",
        "os.environ[\"TF_DETERMINISTIC_OPS\"] = \"1\"\n",
        "os.environ['PYTHONHASHSEED']=str(SEED)\n",
        "random.seed(SEED)\n",
        "np.random.seed(SEED)\n",
        "tf.random.set_seed(SEED)"
      ]
    },
    {
      "cell_type": "markdown",
      "metadata": {
        "id": "6mE8rzPRV4XJ"
      },
      "source": [
        "# Recognizing and Understanding Data\n",
        "\n",
        "**TASK 1: Run the code below to download the dataset using Keras.**"
      ]
    },
    {
      "cell_type": "code",
      "execution_count": null,
      "metadata": {
        "id": "zedPdFEqV4XJ"
      },
      "outputs": [],
      "source": [
        "# Importing the dataset and setting our x_train,x_test,y_train, and y_test values\n",
        "#------------------------------------------------------------------------------------------------------\n",
        "\n",
        "from tensorflow.keras.datasets import fashion_mnist\n",
        "(x_train, y_train), (x_test, y_test) = fashion_mnist.load_data()"
      ]
    },
    {
      "cell_type": "code",
      "execution_count": null,
      "metadata": {
        "id": "D7CuVPmzV4XK",
        "outputId": "d39d81d9-3601-4d7c-f079-f1f46ef2c222"
      },
      "outputs": [
        {
          "name": "stdout",
          "output_type": "stream",
          "text": [
            "x_train shape:  (60000, 28, 28) \n",
            "x_test shape:  (10000, 28, 28) \n",
            "y_train shape:  (60000,) \n",
            "y_test shape:  (10000,)\n"
          ]
        }
      ],
      "source": [
        "# Cheching the shapes of our training and testing splits\n",
        "#------------------------------------------------------------------------------------------------------\n",
        "\n",
        "print(\"x_train shape: \",x_train.shape,\"\\nx_test shape: \",x_test.shape,\"\\ny_train shape: \",y_train.shape,\"\\ny_test shape: \",y_test.shape )"
      ]
    },
    {
      "cell_type": "code",
      "execution_count": null,
      "metadata": {
        "id": "qg4BvrPmV4XK"
      },
      "outputs": [],
      "source": [
        "# Creating our validation set using our training set\n",
        "#------------------------------------------------------------------------------------------------------\n",
        "\n",
        "x_train , x_valid, y_train,y_valid =  train_test_split(\n",
        "    x_train, y_train, stratify=y_train, test_size=0.10, random_state=42\n",
        ")"
      ]
    },
    {
      "cell_type": "code",
      "execution_count": null,
      "metadata": {
        "id": "qpGKDD5sV4XK",
        "outputId": "6e55a026-534d-4f0c-ef51-350de269d0ed"
      },
      "outputs": [
        {
          "name": "stdout",
          "output_type": "stream",
          "text": [
            "x_train shape:  (54000, 28, 28) \n",
            "x_valid shape:  (6000, 28, 28) \n",
            "y_train shape:  (54000,) \n",
            "y_valid shape:  (6000,)\n"
          ]
        }
      ],
      "source": [
        "# Cheching the shapes of our training split (after splitting again) and validation split\n",
        "#------------------------------------------------------------------------------------------------------\n",
        "\n",
        "print(\"x_train shape: \",x_train.shape,\"\\nx_valid shape: \",x_valid.shape,\"\\ny_train shape: \",y_train.shape,\"\\ny_valid shape: \",y_valid.shape )"
      ]
    },
    {
      "cell_type": "code",
      "execution_count": null,
      "metadata": {
        "id": "Y47PqssJV4XK",
        "outputId": "8a101e68-db50-477e-cad2-4093dfd0c9c0"
      },
      "outputs": [
        {
          "name": "stdout",
          "output_type": "stream",
          "text": [
            "There are 54000 images in the training dataset\n",
            "There are 6000 images in the validation dataset\n",
            "There are 10000 images in the test dataset\n"
          ]
        }
      ],
      "source": [
        "# Cheching the number of images in each split\n",
        "#------------------------------------------------------------------------------------------------------\n",
        "\n",
        "print(f\"There are {len(x_train)} images in the training dataset\")\n",
        "print(f\"There are {len(x_valid)} images in the validation dataset\")\n",
        "print(f\"There are {len(x_test)} images in the test dataset\")"
      ]
    },
    {
      "cell_type": "markdown",
      "metadata": {
        "id": "QuajLwA-V4XL"
      },
      "source": [
        "**TASK 2: Use matplotlib to view an image from the data set. It can be any image from the data set.**"
      ]
    },
    {
      "cell_type": "code",
      "execution_count": null,
      "metadata": {
        "id": "dtIeuIYiV4XL"
      },
      "outputs": [],
      "source": [
        "# Cheching the classes and their indices\n",
        "#------------------------------------------------------------------------------------------------------\n",
        "\n",
        "# 0\t    T-shirt/top\n",
        "# 1\t    Trouser\n",
        "# 2\t    Pullover\n",
        "# 3\t    Dress\n",
        "# 4\t    Coat\n",
        "# 5\t    Sandal\n",
        "# 6\t    Shirt\n",
        "# 7\t    Sneaker\n",
        "# 8\t    Bag\n",
        "# 9\t    Ankle boot\n",
        "\n",
        "classes=[\"T-shirt/top\", \"Trouser\",\"Pullover\",\"Dress\",\"Coat\",\"Sandal\",\"Shirt\",\"Sneaker\",\"Bag\",\"Ankle boot\"]"
      ]
    },
    {
      "cell_type": "code",
      "execution_count": null,
      "metadata": {
        "id": "fmk2d2UaV4XL",
        "outputId": "f46872aa-82a1-44e3-b4fe-6a12c01f68bf"
      },
      "outputs": [
        {
          "data": {
            "image/png": "[encoded data removed]",
            "text/plain": [
              "<Figure size 1200x800 with 9 Axes>"
            ]
          },
          "metadata": {},
          "output_type": "display_data"
        }
      ],
      "source": [
        "# Here are 9 random samples of the images and their labels\n",
        "#------------------------------------------------------------------------------------------------------\n",
        "fig, axes = plt.subplots(3, 3)\n",
        "fig.set_size_inches(12, 8)\n",
        "for ax in axes.flatten():\n",
        "    rand_index = int(np.random.randint(low=0, high=50000, size=1))\n",
        "    ax.axis(\"off\")\n",
        "    ax.set_title(classes[int(y_train[rand_index])])\n",
        "    ax.imshow(x_train[rand_index])\n",
        "plt.show()"
      ]
    },
    {
      "cell_type": "code",
      "execution_count": null,
      "metadata": {
        "id": "ci8So_3pV4XM",
        "outputId": "5d085d37-10b0-4e8f-80fd-66de911a900c"
      },
      "outputs": [
        {
          "data": {
            "image/png": "[encoded data removed]",
            "text/plain": [
              "<Figure size 1000x600 with 1 Axes>"
            ]
          },
          "metadata": {},
          "output_type": "display_data"
        }
      ],
      "source": [
        "# Showing a single random sample\n",
        "#------------------------------------------------------------------------------------------------------\n",
        "plt.imshow(x_train[3321])\n",
        "plt.show()"
      ]
    },
    {
      "cell_type": "code",
      "execution_count": null,
      "metadata": {
        "scrolled": false,
        "id": "RRqWkTO7V4XM",
        "outputId": "83e161ed-f4aa-4f5d-e38e-5f28182e804b"
      },
      "outputs": [
        {
          "data": {
            "text/plain": [
              "4"
            ]
          },
          "execution_count": 12,
          "metadata": {},
          "output_type": "execute_result"
        }
      ],
      "source": [
        "# Checking its class, 4 represents the coats\n",
        "#------------------------------------------------------------------------------------------------------\n",
        "y_train[3321]"
      ]
    },
    {
      "cell_type": "markdown",
      "metadata": {
        "id": "XW5VBZMOV4XM"
      },
      "source": [
        "# Data Preprocessing\n",
        "\n",
        "**TASK 3: Normalize the X train and X test data by dividing by the max value of the image arrays.**"
      ]
    },
    {
      "cell_type": "code",
      "execution_count": null,
      "metadata": {
        "id": "muMW8vBuV4XM",
        "outputId": "9bb1c3d3-87a8-4858-a127-19767e3cefbc"
      },
      "outputs": [
        {
          "name": "stdout",
          "output_type": "stream",
          "text": [
            " \n",
            "Train Split \n",
            "\n",
            " The value of the min =  0 \n",
            " The value of the max =  255 \n",
            "\n",
            "\n",
            " Validation Split \n",
            "\n",
            " The value of the min =  0 \n",
            " The value of the max =  255 \n",
            "\n",
            "\n",
            " Test Split \n",
            "\n",
            " The value of the min =  0 \n",
            " The value of the max =  255 \n",
            "\n"
          ]
        }
      ],
      "source": [
        "# The maximum value and the minimum value BEFORE normalizing the splits\n",
        "#------------------------------------------------------------------------------------------------------\n",
        "\n",
        "print(\" \\nTrain Split \\n\\n The value of the min = \" ,x_train[3].min(), \"\\n The value of the max = \" ,x_train[3].max(),\"\\n\\n\")\n",
        "print(\" Validation Split \\n\\n The value of the min = \" ,x_valid[3].min(), \"\\n The value of the max = \" ,x_valid[3].max(),\"\\n\\n\")\n",
        "print(\" Test Split \\n\\n The value of the min = \" ,x_test[3].min(), \"\\n The value of the max = \" ,x_test[3].max(),\"\\n\")"
      ]
    },
    {
      "cell_type": "code",
      "execution_count": null,
      "metadata": {
        "id": "l11pWsIHV4XN"
      },
      "outputs": [],
      "source": [
        "# Normalizing the data split to change their value ranges from (0,255) to (0,1)\n",
        "#------------------------------------------------------------------------------------------------------\n",
        "x_train =x_train.astype(\"float32\")\n",
        "x_valid = x_valid.astype(\"float32\")\n",
        "x_test = x_test.astype(\"float32\")\n",
        "x_train /= 255\n",
        "x_valid /=255\n",
        "x_test /= 255"
      ]
    },
    {
      "cell_type": "code",
      "execution_count": null,
      "metadata": {
        "id": "apX2zMMXV4XN",
        "outputId": "d241994e-fff1-4e5c-b308-f5a753288fc1"
      },
      "outputs": [
        {
          "name": "stdout",
          "output_type": "stream",
          "text": [
            " \n",
            "Train Split \n",
            "\n",
            " The value of the min =  0.0 \n",
            " The value of the max =  1.0 \n",
            "\n",
            "\n",
            " Validation Split \n",
            "\n",
            " The value of the min =  0.0 \n",
            " The value of the max =  1.0 \n",
            "\n",
            "\n",
            " Test Split \n",
            "\n",
            " The value of the min =  0.0 \n",
            " The value of the max =  1.0 \n",
            "\n"
          ]
        }
      ],
      "source": [
        "# The maximum value and the minimum value AFTER normalizing the splits\n",
        "#------------------------------------------------------------------------------------------------------\n",
        "\n",
        "print(\" \\nTrain Split \\n\\n The value of the min = \" ,x_train[3].min(), \"\\n The value of the max = \" ,x_train[3].max(),\"\\n\\n\")\n",
        "print(\" Validation Split \\n\\n The value of the min = \" ,x_valid[3].min(), \"\\n The value of the max = \" ,x_valid[3].max(),\"\\n\\n\")\n",
        "print(\" Test Split \\n\\n The value of the min = \" ,x_test[3].min(), \"\\n The value of the max = \" ,x_test[3].max(),\"\\n\")"
      ]
    },
    {
      "cell_type": "markdown",
      "metadata": {
        "id": "CbfqGaAAV4XO"
      },
      "source": [
        "**Task 4: Reshape the X arrays to include a 4 dimension of the single channel. Similar to what we did for the numbers MNIST data set.**"
      ]
    },
    {
      "cell_type": "code",
      "execution_count": null,
      "metadata": {
        "id": "dcCw5vNNV4XO",
        "outputId": "1198eef8-89ea-4c81-9fa0-8152432e15e0"
      },
      "outputs": [
        {
          "name": "stdout",
          "output_type": "stream",
          "text": [
            "Shapes BEFORE reshaping: \n",
            "\n",
            "x_train: (54000, 28, 28) \n",
            "x_valid: (6000, 28, 28) \n",
            "x_test:  (10000, 28, 28)\n"
          ]
        }
      ],
      "source": [
        "print(\"Shapes BEFORE reshaping: \\n\\nx_train:\",x_train.shape, \"\\nx_valid:\",x_valid.shape,\"\\nx_test: \",x_test.shape)"
      ]
    },
    {
      "cell_type": "code",
      "execution_count": null,
      "metadata": {
        "id": "5qGZSDJzV4XO"
      },
      "outputs": [],
      "source": [
        "# Expanding the dimensions to include the channel ( since we are working on grayscale images, then the newer dimension's value\n",
        "# is 1 because we only take the intensity of the pixel and it is a single value unlike in RGB color space)\n",
        "#------------------------------------------------------------------------------------------------------\n",
        "\n",
        "x_train = np.expand_dims(x_train, 3)\n",
        "x_valid = np.expand_dims(x_valid, 3)\n",
        "x_test = np.expand_dims(x_test, 3)"
      ]
    },
    {
      "cell_type": "code",
      "execution_count": null,
      "metadata": {
        "id": "ZdaRekrAV4XP",
        "outputId": "7936704c-8a7a-4136-b664-00fd0100e184"
      },
      "outputs": [
        {
          "name": "stdout",
          "output_type": "stream",
          "text": [
            "Shapes AFTER reshaping: \n",
            "\n",
            "x_train: (54000, 28, 28, 1) \n",
            "x_valid: (6000, 28, 28, 1) \n",
            "x_test:  (10000, 28, 28, 1)\n"
          ]
        }
      ],
      "source": [
        "print(\"Shapes AFTER reshaping: \\n\\nx_train:\",x_train.shape, \"\\nx_valid:\",x_valid.shape,\"\\nx_test: \",x_test.shape)"
      ]
    },
    {
      "cell_type": "markdown",
      "metadata": {
        "id": "8pFt4BD-V4XP"
      },
      "source": [
        "**TASK 5: Convert the y_train and y_test values to be one-hot encoded for categorical analysis by Keras.**"
      ]
    },
    {
      "cell_type": "code",
      "execution_count": null,
      "metadata": {
        "id": "qCXMgmnIV4XP"
      },
      "outputs": [],
      "source": [
        "from tensorflow.keras.utils import to_categorical"
      ]
    },
    {
      "cell_type": "code",
      "execution_count": null,
      "metadata": {
        "id": "-fJWJULGV4XP",
        "outputId": "9addcd56-f190-4319-b95a-329a88b45451"
      },
      "outputs": [
        {
          "name": "stdout",
          "output_type": "stream",
          "text": [
            "Shapes BFFORE encoding: \n",
            "\n",
            "y_train: (54000,) \n",
            "y_valid: (6000,) \n",
            "y_test:  (10000,)\n"
          ]
        }
      ],
      "source": [
        "print(\"Shapes BFFORE encoding: \\n\\ny_train:\",y_train.shape, \"\\ny_valid:\",y_valid.shape,\"\\ny_test: \",y_test.shape)"
      ]
    },
    {
      "cell_type": "code",
      "execution_count": null,
      "metadata": {
        "id": "HtI7Vof8V4XP"
      },
      "outputs": [],
      "source": [
        "# Encoding the Ys so we can represent the classes since we have 10 different classes\n",
        "#------------------------------------------------------------------------------------------------------\n",
        "\n",
        "Y_train = to_categorical(y_train, 10)\n",
        "Y_valid = to_categorical(y_valid, 10)\n",
        "Y_test = to_categorical(y_test, 10)"
      ]
    },
    {
      "cell_type": "code",
      "execution_count": null,
      "metadata": {
        "id": "Hi6X2VMWV4XQ",
        "outputId": "85f8a6b6-1803-4d6e-bcf1-00ae233845a2"
      },
      "outputs": [
        {
          "name": "stdout",
          "output_type": "stream",
          "text": [
            "Shapes AFTER encoding: \n",
            "\n",
            "y_train: (54000, 10) \n",
            "y_valid: (6000, 10) \n",
            "y_test:  (10000, 10)\n"
          ]
        }
      ],
      "source": [
        "print(\"Shapes AFTER encoding: \\n\\ny_train:\",Y_train.shape, \"\\ny_valid:\",Y_valid.shape,\"\\ny_test: \",Y_test.shape)"
      ]
    },
    {
      "cell_type": "markdown",
      "metadata": {
        "id": "Arhh0gfAV4XQ"
      },
      "source": [
        "# Modeling"
      ]
    },
    {
      "cell_type": "markdown",
      "metadata": {
        "id": "1_YXlsTzV4XR"
      },
      "source": [
        "## Create the model\n",
        "\n",
        "**TASK 5: Use Keras to create a model consisting of at least the following layers (but feel free to experiment):**\n",
        "\n",
        "* 2D Convolutional Layer, filters=28 and kernel_size=(3,3)\n",
        "* Pooling Layer where pool_size = (2,2) strides=(1,1)\n",
        "\n",
        "* Flatten Layer\n",
        "* Dense Layer (128 Neurons, but feel free to play around with this value), RELU activation\n",
        "\n",
        "* Final Dense Layer of 10 Neurons with a softmax activation\n",
        "\n",
        "**Then compile the model with these parameters: loss='categorical_crossentropy', optimizer='rmsprop', metrics=['accuracy']**"
      ]
    },
    {
      "cell_type": "code",
      "execution_count": null,
      "metadata": {
        "id": "1y_OJJUYV4XR"
      },
      "outputs": [],
      "source": [
        "# Now let's create our MODEL!\n",
        "# First we start by choosing our layers, I used the layers suggested, but added dropout to avoid overfitting\n",
        "#------------------------------------------------------------------------------------------------------\n",
        "\n",
        "model = Sequential()\n",
        "model.add(Conv2D(filters=28, kernel_size=(3, 3),input_shape=(28, 28, 1), activation=\"relu\"))\n",
        "model.add(MaxPool2D(pool_size=(2, 2)))\n",
        "model.add(Flatten())\n",
        "model.add(Dense(128, activation=\"relu\"))\n",
        "model.add(Dropout(0.2)) #   <<-------------------Dropout added here :)\n",
        "model.add(Dense(10, activation=\"softmax\"))\n",
        "\n",
        "# Compiled the model with the same requested parameters\n",
        "model.compile(loss=\"categorical_crossentropy\", optimizer=\"rmsprop\", metrics=[\"accuracy\"])"
      ]
    },
    {
      "cell_type": "code",
      "execution_count": null,
      "metadata": {
        "id": "mvdPseWqV4XS",
        "outputId": "b8d9d340-434b-403b-f256-ad679fd00ecd"
      },
      "outputs": [
        {
          "name": "stdout",
          "output_type": "stream",
          "text": [
            "Model: \"sequential_2\"\n",
            "_________________________________________________________________\n",
            "Layer (type)                 Output Shape              Param #   \n",
            "=================================================================\n",
            "conv2d_2 (Conv2D)            (None, 26, 26, 28)        280       \n",
            "_________________________________________________________________\n",
            "max_pooling2d_2 (MaxPooling2 (None, 13, 13, 28)        0         \n",
            "_________________________________________________________________\n",
            "flatten_2 (Flatten)          (None, 4732)              0         \n",
            "_________________________________________________________________\n",
            "dense_4 (Dense)              (None, 128)               605824    \n",
            "_________________________________________________________________\n",
            "dropout_2 (Dropout)          (None, 128)               0         \n",
            "_________________________________________________________________\n",
            "dense_5 (Dense)              (None, 10)                1290      \n",
            "=================================================================\n",
            "Total params: 607,394\n",
            "Trainable params: 607,394\n",
            "Non-trainable params: 0\n",
            "_________________________________________________________________\n"
          ]
        }
      ],
      "source": [
        "# Checking the model's summary to see the layers, output shape, and no. parameters\n",
        "#------------------------------------------------------------------------------------------------------\n",
        "model.summary()"
      ]
    },
    {
      "cell_type": "markdown",
      "metadata": {
        "id": "uT51U5rNV4XS"
      },
      "source": [
        "##  Model Training\n",
        "\n",
        "**TASK 6: Train/Fit the model to the x_train set by using EarlyStop. Amount of epochs is up to you.**"
      ]
    },
    {
      "cell_type": "code",
      "execution_count": null,
      "metadata": {
        "id": "WjDh7QLZV4XS"
      },
      "outputs": [],
      "source": [
        "# Setting the early stopping configurations monitoring the val_loss and setting the patience to 15\n",
        "#------------------------------------------------------------------------------------------------------\n",
        "\n",
        "early_stop = EarlyStopping(monitor=\"val_loss\", mode=\"min\", verbose=1, patience=15, restore_best_weights=True)"
      ]
    },
    {
      "cell_type": "code",
      "execution_count": null,
      "metadata": {
        "id": "j17mX2dqV4XT",
        "outputId": "60cb1005-9cb8-4cba-c770-27934c0eef62"
      },
      "outputs": [
        {
          "name": "stdout",
          "output_type": "stream",
          "text": [
            "Epoch 1/40\n",
            "844/844 [==============================] - 4s 5ms/step - loss: 0.4666 - accuracy: 0.8336 - val_loss: 0.2997 - val_accuracy: 0.8898\n",
            "Epoch 2/40\n",
            "844/844 [==============================] - 4s 4ms/step - loss: 0.3022 - accuracy: 0.8934 - val_loss: 0.2618 - val_accuracy: 0.9057\n",
            "Epoch 3/40\n",
            "844/844 [==============================] - 4s 4ms/step - loss: 0.2606 - accuracy: 0.9068 - val_loss: 0.2474 - val_accuracy: 0.9072\n",
            "Epoch 4/40\n",
            "844/844 [==============================] - 4s 4ms/step - loss: 0.2351 - accuracy: 0.9146 - val_loss: 0.2418 - val_accuracy: 0.9143\n",
            "Epoch 5/40\n",
            "844/844 [==============================] - 4s 4ms/step - loss: 0.2152 - accuracy: 0.9237 - val_loss: 0.2567 - val_accuracy: 0.9100\n",
            "Epoch 6/40\n",
            "844/844 [==============================] - 4s 5ms/step - loss: 0.2014 - accuracy: 0.9283 - val_loss: 0.2668 - val_accuracy: 0.9080\n",
            "Epoch 7/40\n",
            "844/844 [==============================] - 4s 5ms/step - loss: 0.1897 - accuracy: 0.9312 - val_loss: 0.2342 - val_accuracy: 0.9207\n",
            "Epoch 8/40\n",
            "844/844 [==============================] - 4s 5ms/step - loss: 0.1795 - accuracy: 0.9354 - val_loss: 0.2612 - val_accuracy: 0.9142\n",
            "Epoch 9/40\n",
            "844/844 [==============================] - 4s 5ms/step - loss: 0.1696 - accuracy: 0.9393 - val_loss: 0.2392 - val_accuracy: 0.9183\n",
            "Epoch 10/40\n",
            "844/844 [==============================] - 5s 5ms/step - loss: 0.1651 - accuracy: 0.9417 - val_loss: 0.2528 - val_accuracy: 0.9183\n",
            "Epoch 11/40\n",
            "844/844 [==============================] - 4s 5ms/step - loss: 0.1571 - accuracy: 0.9447 - val_loss: 0.2521 - val_accuracy: 0.9190\n",
            "Epoch 12/40\n",
            "844/844 [==============================] - 4s 5ms/step - loss: 0.1531 - accuracy: 0.9460 - val_loss: 0.2592 - val_accuracy: 0.9225\n",
            "Epoch 13/40\n",
            "844/844 [==============================] - 4s 5ms/step - loss: 0.1486 - accuracy: 0.9485 - val_loss: 0.2495 - val_accuracy: 0.9183\n",
            "Epoch 14/40\n",
            "844/844 [==============================] - 4s 5ms/step - loss: 0.1451 - accuracy: 0.9491 - val_loss: 0.2646 - val_accuracy: 0.9162\n",
            "Epoch 15/40\n",
            "844/844 [==============================] - 4s 5ms/step - loss: 0.1411 - accuracy: 0.9506 - val_loss: 0.2618 - val_accuracy: 0.9223\n",
            "Epoch 16/40\n",
            "844/844 [==============================] - 4s 5ms/step - loss: 0.1376 - accuracy: 0.9512 - val_loss: 0.2575 - val_accuracy: 0.9160\n",
            "Epoch 17/40\n",
            "844/844 [==============================] - 4s 5ms/step - loss: 0.1356 - accuracy: 0.9525 - val_loss: 0.2838 - val_accuracy: 0.9215\n",
            "Epoch 18/40\n",
            "844/844 [==============================] - 4s 5ms/step - loss: 0.1331 - accuracy: 0.9543 - val_loss: 0.2734 - val_accuracy: 0.9208\n",
            "Epoch 19/40\n",
            "844/844 [==============================] - 4s 5ms/step - loss: 0.1263 - accuracy: 0.9552 - val_loss: 0.2910 - val_accuracy: 0.9197\n",
            "Epoch 20/40\n",
            "844/844 [==============================] - 4s 5ms/step - loss: 0.1244 - accuracy: 0.9573 - val_loss: 0.2766 - val_accuracy: 0.9242\n",
            "Epoch 21/40\n",
            "844/844 [==============================] - 4s 5ms/step - loss: 0.1226 - accuracy: 0.9584 - val_loss: 0.2914 - val_accuracy: 0.9210\n",
            "Epoch 22/40\n",
            "844/844 [==============================] - 4s 5ms/step - loss: 0.1210 - accuracy: 0.9587 - val_loss: 0.3157 - val_accuracy: 0.9210\n",
            "Restoring model weights from the end of the best epoch.\n",
            "Epoch 00022: early stopping\n"
          ]
        },
        {
          "data": {
            "text/plain": [
              "<keras.callbacks.History at 0x258ae99fe20>"
            ]
          },
          "execution_count": 39,
          "metadata": {},
          "output_type": "execute_result"
        }
      ],
      "source": [
        "# Fitting the model using the validation split we created earlier and having the batch size = 64 and epochs = 40\n",
        "#------------------------------------------------------------------------------------------------------\n",
        "\n",
        "model.fit(\n",
        "    x_train,\n",
        "    Y_train,\n",
        "    batch_size=64,\n",
        "    epochs=40,\n",
        "    validation_data=(x_valid, Y_valid),\n",
        "    callbacks=[early_stop],\n",
        ")"
      ]
    },
    {
      "cell_type": "markdown",
      "metadata": {
        "id": "555P4xo5V4XT"
      },
      "source": [
        "**TASK 7: Plot values of metrics you used in your model.**"
      ]
    },
    {
      "cell_type": "code",
      "execution_count": null,
      "metadata": {
        "id": "W9rEdU22V4XU",
        "outputId": "fa1a5ad8-a498-44ff-f8b3-84cec7b6291a"
      },
      "outputs": [
        {
          "data": {
            "text/plain": [
              "['loss', 'accuracy']"
            ]
          },
          "execution_count": 40,
          "metadata": {},
          "output_type": "execute_result"
        }
      ],
      "source": [
        "# Checking the model's metrics\n",
        "#------------------------------------------------------------------------------------------------------\n",
        "model.metrics_names"
      ]
    },
    {
      "cell_type": "code",
      "execution_count": null,
      "metadata": {
        "id": "KQ6MyDhkV4XU",
        "outputId": "c08c7f13-65b8-4aa4-e0b8-e44c0775a963"
      },
      "outputs": [
        {
          "data": {
            "text/html": [
              "<div>\n",
              "<style scoped>\n",
              "    .dataframe tbody tr th:only-of-type {\n",
              "        vertical-align: middle;\n",
              "    }\n",
              "\n",
              "    .dataframe tbody tr th {\n",
              "        vertical-align: top;\n",
              "    }\n",
              "\n",
              "    .dataframe thead th {\n",
              "        text-align: right;\n",
              "    }\n",
              "</style>\n",
              "<table border=\"1\" class=\"dataframe\">\n",
              "  <thead>\n",
              "    <tr style=\"text-align: right;\">\n",
              "      <th></th>\n",
              "      <th>loss</th>\n",
              "      <th>accuracy</th>\n",
              "      <th>val_loss</th>\n",
              "      <th>val_accuracy</th>\n",
              "    </tr>\n",
              "  </thead>\n",
              "  <tbody>\n",
              "    <tr>\n",
              "      <th>0</th>\n",
              "      <td>0.467</td>\n",
              "      <td>0.834</td>\n",
              "      <td>0.300</td>\n",
              "      <td>0.890</td>\n",
              "    </tr>\n",
              "    <tr>\n",
              "      <th>1</th>\n",
              "      <td>0.302</td>\n",
              "      <td>0.893</td>\n",
              "      <td>0.262</td>\n",
              "      <td>0.906</td>\n",
              "    </tr>\n",
              "    <tr>\n",
              "      <th>2</th>\n",
              "      <td>0.261</td>\n",
              "      <td>0.907</td>\n",
              "      <td>0.247</td>\n",
              "      <td>0.907</td>\n",
              "    </tr>\n",
              "    <tr>\n",
              "      <th>3</th>\n",
              "      <td>0.235</td>\n",
              "      <td>0.915</td>\n",
              "      <td>0.242</td>\n",
              "      <td>0.914</td>\n",
              "    </tr>\n",
              "    <tr>\n",
              "      <th>4</th>\n",
              "      <td>0.215</td>\n",
              "      <td>0.924</td>\n",
              "      <td>0.257</td>\n",
              "      <td>0.910</td>\n",
              "    </tr>\n",
              "  </tbody>\n",
              "</table>\n",
              "</div>"
            ],
            "text/plain": [
              "   loss  accuracy  val_loss  val_accuracy\n",
              "0 0.467     0.834     0.300         0.890\n",
              "1 0.302     0.893     0.262         0.906\n",
              "2 0.261     0.907     0.247         0.907\n",
              "3 0.235     0.915     0.242         0.914\n",
              "4 0.215     0.924     0.257         0.910"
            ]
          },
          "execution_count": 41,
          "metadata": {},
          "output_type": "execute_result"
        }
      ],
      "source": [
        "# Checking the summary of training (showing the different values of loss, accuracy, validation loss, and validation accuracy)\n",
        "#------------------------------------------------------------------------------------------------------\n",
        "\n",
        "summary = pd.DataFrame(model.history.history)\n",
        "summary.head()"
      ]
    },
    {
      "cell_type": "code",
      "execution_count": null,
      "metadata": {
        "id": "QRpeXFXJV4XV",
        "outputId": "ce90a0cc-d470-4fd5-9e77-969208ff64a7"
      },
      "outputs": [
        {
          "data": {
            "image/png": "[encoded data removed]",
            "text/plain": [
              "<Figure size 1000x600 with 1 Axes>"
            ]
          },
          "metadata": {},
          "output_type": "display_data"
        }
      ],
      "source": [
        "# Plotting the summary of training (showing the different values of the loss and the validation loss)\n",
        "# The model doesn't seem to be overfitting nor underfitting\n",
        "#------------------------------------------------------------------------------------------------------\n",
        "\n",
        "summary[[\"loss\", \"val_loss\"]].plot()\n",
        "plt.ylim([0, 1])\n",
        "plt.show()"
      ]
    },
    {
      "cell_type": "code",
      "execution_count": null,
      "metadata": {
        "id": "LimglE70V4XV",
        "outputId": "b34024fb-f662-4b2c-8c12-88ca95eade36"
      },
      "outputs": [
        {
          "data": {
            "image/png": "[encoded data removed]",
            "text/plain": [
              "<Figure size 1000x600 with 1 Axes>"
            ]
          },
          "metadata": {},
          "output_type": "display_data"
        }
      ],
      "source": [
        "# Plotting the summary of training (showing the different values of the accuracy and the validation accuracy)\n",
        "# The model doesn't seem to be overfitting nor underfitting\n",
        "#------------------------------------------------------------------------------------------------------\n",
        "\n",
        "summary[[\"accuracy\", \"val_accuracy\"]].plot()\n",
        "plt.ylim([0, 1])\n",
        "plt.show()"
      ]
    },
    {
      "cell_type": "markdown",
      "metadata": {
        "id": "yC2A4AWAV4XW"
      },
      "source": [
        "## Model Evaluation\n",
        "\n",
        "**TASK 8: Show the accuracy,precision,recall,f1-score the model achieved on the x_test data set. Keep in mind, there are quite a few ways to do this, but we recommend following the same procedure we showed in the MNIST lecture.**"
      ]
    },
    {
      "cell_type": "code",
      "execution_count": null,
      "metadata": {
        "id": "0FGU4CA8V4XX",
        "outputId": "39095e45-da2c-49e1-e51f-0fb68c707b2c"
      },
      "outputs": [
        {
          "name": "stdout",
          "output_type": "stream",
          "text": [
            "313/313 [==============================] - 1s 3ms/step - loss: 0.2639 - accuracy: 0.9120\n"
          ]
        },
        {
          "data": {
            "text/plain": [
              "[0.26385432481765747, 0.9120000004768372]"
            ]
          },
          "execution_count": 44,
          "metadata": {},
          "output_type": "execute_result"
        }
      ],
      "source": [
        "# Evaluating our model using the test split\n",
        "#------------------------------------------------------------------------------------------------------\n",
        "model.evaluate(x_test, Y_test)"
      ]
    },
    {
      "cell_type": "code",
      "execution_count": null,
      "metadata": {
        "id": "RZPJzyYqV4XX",
        "outputId": "abdea658-65f6-4fbe-f83e-21d8615e2d54"
      },
      "outputs": [
        {
          "name": "stdout",
          "output_type": "stream",
          "text": [
            "Test loss: 0.26385432481765747\n",
            "Test accuracy: 0.9120000004768372\n"
          ]
        }
      ],
      "source": [
        "score = model.evaluate(x_test, Y_test, verbose=0)\n",
        "print(\"Test loss:\", score[0])\n",
        "print(\"Test accuracy:\", score[1])"
      ]
    },
    {
      "cell_type": "code",
      "execution_count": null,
      "metadata": {
        "id": "okZsUPFBV4XX",
        "outputId": "3b1b972d-bed8-4186-b8cd-2db473b7825d"
      },
      "outputs": [
        {
          "data": {
            "text/plain": [
              "array([[6.0591788e-07, 6.5367461e-10, 6.5629997e-08, ..., 1.5580944e-04,\n",
              "        1.1279238e-06, 9.9959320e-01],\n",
              "       [9.7953659e-08, 2.6510125e-21, 9.9999964e-01, ..., 9.6627630e-15,\n",
              "        1.5317143e-11, 7.2807369e-13],\n",
              "       [5.9704397e-09, 1.0000000e+00, 1.1495868e-11, ..., 2.4658132e-14,\n",
              "        7.8680673e-12, 6.2968700e-13],\n",
              "       ...,\n",
              "       [3.7202906e-08, 2.6374917e-16, 6.1671406e-09, ..., 3.1811499e-08,\n",
              "        9.9999547e-01, 2.2206479e-12],\n",
              "       [1.8710557e-08, 9.9999821e-01, 4.1348462e-09, ..., 3.2677910e-12,\n",
              "        1.8550773e-10, 7.6816059e-10],\n",
              "       [1.9110154e-04, 4.9179694e-06, 1.4511485e-03, ..., 5.4375555e-02,\n",
              "        5.7357592e-03, 3.4064918e-03]], dtype=float32)"
            ]
          },
          "execution_count": 46,
          "metadata": {},
          "output_type": "execute_result"
        }
      ],
      "source": [
        "pred_prob = model.predict(x_test)\n",
        "pred_prob"
      ]
    },
    {
      "cell_type": "code",
      "execution_count": null,
      "metadata": {
        "id": "7CUr5yWIV4XY",
        "outputId": "7be3c82d-b72d-4c94-8420-7fe5aa056382"
      },
      "outputs": [
        {
          "data": {
            "text/plain": [
              "(10000, 10)"
            ]
          },
          "execution_count": 47,
          "metadata": {},
          "output_type": "execute_result"
        }
      ],
      "source": [
        "pred_prob.shape"
      ]
    },
    {
      "cell_type": "code",
      "execution_count": null,
      "metadata": {
        "id": "NsXA19edV4XY",
        "outputId": "ced03be4-5953-4a33-eaa7-d29d66052b4d"
      },
      "outputs": [
        {
          "data": {
            "text/plain": [
              "array([6.0591788e-07, 6.5367461e-10, 6.5629997e-08, 3.2411080e-09,\n",
              "       1.6934193e-08, 2.4920228e-04, 8.4565528e-09, 1.5580944e-04,\n",
              "       1.1279238e-06, 9.9959320e-01], dtype=float32)"
            ]
          },
          "execution_count": 48,
          "metadata": {},
          "output_type": "execute_result"
        }
      ],
      "source": [
        "pred_prob[0]"
      ]
    },
    {
      "cell_type": "code",
      "execution_count": null,
      "metadata": {
        "id": "7EZwuSKZV4XY",
        "outputId": "aea21860-fa79-4605-eded-7926e47fee2a"
      },
      "outputs": [
        {
          "data": {
            "text/plain": [
              "9"
            ]
          },
          "execution_count": 49,
          "metadata": {},
          "output_type": "execute_result"
        }
      ],
      "source": [
        "np.argmax(pred_prob[0])"
      ]
    },
    {
      "cell_type": "code",
      "execution_count": null,
      "metadata": {
        "id": "rm4e91tDV4XZ",
        "outputId": "cb2b181e-7708-4864-c094-d180c58171f2"
      },
      "outputs": [
        {
          "data": {
            "text/plain": [
              "array([9, 2, 1, ..., 8, 1, 5], dtype=int64)"
            ]
          },
          "execution_count": 50,
          "metadata": {},
          "output_type": "execute_result"
        }
      ],
      "source": [
        "y_pred = np.argmax(pred_prob, axis=1)\n",
        "y_pred"
      ]
    },
    {
      "cell_type": "code",
      "execution_count": null,
      "metadata": {
        "id": "F0CoX7hpV4XZ",
        "outputId": "ee0a2246-cfd0-4a9b-cda5-1218bf2c3cfe"
      },
      "outputs": [
        {
          "data": {
            "text/plain": [
              "(10000,)"
            ]
          },
          "execution_count": 51,
          "metadata": {},
          "output_type": "execute_result"
        }
      ],
      "source": [
        "y_pred.shape"
      ]
    },
    {
      "cell_type": "code",
      "execution_count": null,
      "metadata": {
        "id": "_JnzumgdV4XZ",
        "outputId": "363330e8-a9ab-4e69-ed63-2d613943e8a0"
      },
      "outputs": [
        {
          "data": {
            "text/plain": [
              "(10000,)"
            ]
          },
          "execution_count": 52,
          "metadata": {},
          "output_type": "execute_result"
        }
      ],
      "source": [
        "y_test.shape"
      ]
    },
    {
      "cell_type": "code",
      "execution_count": null,
      "metadata": {
        "id": "BoYtmbW_V4XZ",
        "outputId": "8093ec8b-2de5-4196-9f63-4eb1192f4010"
      },
      "outputs": [
        {
          "name": "stdout",
          "output_type": "stream",
          "text": [
            "              precision    recall  f1-score   support\n",
            "\n",
            "           0       0.85      0.89      0.87      1000\n",
            "           1       0.99      0.97      0.98      1000\n",
            "           2       0.87      0.84      0.86      1000\n",
            "           3       0.92      0.91      0.92      1000\n",
            "           4       0.80      0.91      0.86      1000\n",
            "           5       0.96      0.98      0.97      1000\n",
            "           6       0.80      0.70      0.75      1000\n",
            "           7       0.96      0.95      0.96      1000\n",
            "           8       0.98      0.99      0.99      1000\n",
            "           9       0.97      0.96      0.97      1000\n",
            "\n",
            "    accuracy                           0.91     10000\n",
            "   macro avg       0.91      0.91      0.91     10000\n",
            "weighted avg       0.91      0.91      0.91     10000\n",
            "\n"
          ]
        }
      ],
      "source": [
        "# Getting our classification report\n",
        "# We can see that we have different precision,recall, and F1 score values for each class\n",
        "# The model seems to be doing well for almost all of the classes except class 6 which seems to be a bit confusing to the model\n",
        "#------------------------------------------------------------------------------------------------------\n",
        "\n",
        "print(classification_report(y_test, y_pred))"
      ]
    },
    {
      "cell_type": "code",
      "execution_count": null,
      "metadata": {
        "id": "XvogjtoyV4XZ",
        "outputId": "54a86a46-b03d-4a68-dbf6-6af503d15698"
      },
      "outputs": [
        {
          "name": "stdout",
          "output_type": "stream",
          "text": [
            "[[893   0  14  10   6   3  67   0   7   0]\n",
            " [  1 971   1  18   5   0   3   0   1   0]\n",
            " [ 14   0 845   9  87   0  45   0   0   0]\n",
            " [ 14   4   9 910  37   2  24   0   0   0]\n",
            " [  1   1  36  15 914   1  31   0   1   0]\n",
            " [  0   0   0   0   0 985   0   9   0   6]\n",
            " [122   0  65  25  85   0 697   0   6   0]\n",
            " [  0   0   0   0   0  18   0 954   1  27]\n",
            " [  1   1   2   2   2   2   2   1 987   0]\n",
            " [  0   0   0   0   0  10   0  25   1 964]]\n"
          ]
        }
      ],
      "source": [
        "print(confusion_matrix(y_test, y_pred))"
      ]
    },
    {
      "cell_type": "code",
      "execution_count": null,
      "metadata": {
        "id": "TqgxY2tcV4Xa",
        "outputId": "8baaf07d-325a-467b-d5a4-a9cc7b27d456"
      },
      "outputs": [
        {
          "data": {
            "image/png": "[encoded data removed]",
            "text/plain": [
              "<Figure size 1500x1000 with 2 Axes>"
            ]
          },
          "metadata": {},
          "output_type": "display_data"
        }
      ],
      "source": [
        "# Let's take a look at our heat map here\n",
        "# we can see that the number of correctly classified images\n",
        "# As the heat map shows, both classes 2 and 6 seem to have more incorrectly classified images\n",
        "# It seems like the model is slightly confusing between class 2 [pullover] and class 6 [shirt] which seems reasonable\n",
        "#------------------------------------------------------------------------------------------------------\n",
        "\n",
        "plt.figure(figsize=(15, 10))\n",
        "sns.heatmap(\n",
        "    confusion_matrix(y_test, y_pred),\n",
        "    annot=True,\n",
        "    cmap=\"Blues\",\n",
        "    linewidths=0.5,\n",
        "    linecolor=\"black\",\n",
        "    fmt=\"g\",\n",
        "    annot_kws={\"size\": 15},)\n",
        "plt.show()"
      ]
    },
    {
      "cell_type": "code",
      "execution_count": null,
      "metadata": {
        "id": "K7Ghu-nfV4Xa",
        "outputId": "48b36df3-e976-42df-e5ef-999be1ad5095"
      },
      "outputs": [
        {
          "data": {
            "text/plain": [
              "880"
            ]
          },
          "execution_count": 56,
          "metadata": {},
          "output_type": "execute_result"
        }
      ],
      "source": [
        "# No. incorrectly classified images\n",
        "#------------------------------------------------------------------------------------------------------\n",
        "\n",
        "np.not_equal(y_test, y_pred).sum()"
      ]
    },
    {
      "cell_type": "code",
      "execution_count": null,
      "metadata": {
        "id": "Y_gM2NpkV4Xa",
        "outputId": "848a5344-087d-4eec-d97e-ea319dc33864"
      },
      "outputs": [
        {
          "data": {
            "text/plain": [
              "9120"
            ]
          },
          "execution_count": 57,
          "metadata": {},
          "output_type": "execute_result"
        }
      ],
      "source": [
        "# No. correctly classified images\n",
        "#------------------------------------------------------------------------------------------------------\n",
        "\n",
        "np.equal(y_test, y_pred).sum()"
      ]
    },
    {
      "cell_type": "code",
      "execution_count": null,
      "metadata": {
        "id": "s6sfPLRsV4Xa",
        "outputId": "04ab9164-f53c-4479-babc-4a9332995d7b"
      },
      "outputs": [
        {
          "data": {
            "text/plain": [
              "Text(0.5, 1.0, 'Bar graph')"
            ]
          },
          "execution_count": 66,
          "metadata": {},
          "output_type": "execute_result"
        },
        {
          "data": {
            "image/png": "[encoded data removed]",
            "text/plain": [
              "<Figure size 1000x600 with 1 Axes>"
            ]
          },
          "metadata": {},
          "output_type": "display_data"
        }
      ],
      "source": [
        "# Let's do some comparison\n",
        "# The number of incorrectly classified images isn't as much which means our model is doing a good job :)\n",
        "#------------------------------------------------------------------------------------------------------\n",
        "\n",
        "plt.bar(1,np.equal(y_test, y_pred).sum(),color = 'c', align = 'center')\n",
        "plt.bar( 2 ,np.not_equal(y_test, y_pred).sum(),color = 'm', align = 'center')\n",
        "plt.title('Bar graph')\n",
        ""
      ]
    },
    {
      "cell_type": "markdown",
      "metadata": {
        "id": "tYj7SDqkV4Xb"
      },
      "source": [
        "## Prediction"
      ]
    },
    {
      "cell_type": "code",
      "execution_count": null,
      "metadata": {
        "id": "VbdNVS3aV4Xb"
      },
      "outputs": [],
      "source": [
        "# Now let's predict a single image\n",
        "#------------------------------------------------------------------------------------------------------\n",
        "Cloth_Pred = x_test[3]"
      ]
    },
    {
      "cell_type": "code",
      "execution_count": null,
      "metadata": {
        "id": "0PIWbwF1V4Xb",
        "outputId": "14e401c2-d5d8-44c8-d4d5-d932916fa9e7"
      },
      "outputs": [
        {
          "data": {
            "text/plain": [
              "(28, 28, 1)"
            ]
          },
          "execution_count": 68,
          "metadata": {},
          "output_type": "execute_result"
        }
      ],
      "source": [
        "Cloth_Pred.shape"
      ]
    },
    {
      "cell_type": "code",
      "execution_count": null,
      "metadata": {
        "id": "4zqS816rV4Xb",
        "outputId": "52b98c8e-24c1-40aa-eb9e-862e49823004"
      },
      "outputs": [
        {
          "data": {
            "image/png": "[encoded data removed]",
            "text/plain": [
              "<Figure size 1000x600 with 1 Axes>"
            ]
          },
          "metadata": {},
          "output_type": "display_data"
        }
      ],
      "source": [
        "plt.imshow(Cloth_Pred, cmap=\"gray\")\n",
        "plt.show()"
      ]
    },
    {
      "cell_type": "code",
      "execution_count": null,
      "metadata": {
        "id": "ufBluCNHV4Xb",
        "outputId": "68f8ac6e-f23f-4887-ab92-57fb72066a1b"
      },
      "outputs": [
        {
          "data": {
            "text/plain": [
              "(1, 28, 28, 1)"
            ]
          },
          "execution_count": 70,
          "metadata": {},
          "output_type": "execute_result"
        }
      ],
      "source": [
        "np.expand_dims(Cloth_Pred, 0).shape"
      ]
    },
    {
      "cell_type": "code",
      "execution_count": null,
      "metadata": {
        "id": "uKH-oMu8V4Xb",
        "outputId": "f6735676-d253-492c-b5b8-f65eb29537d1"
      },
      "outputs": [
        {
          "data": {
            "text/plain": [
              "array([[3.5636219e-10, 1.0000000e+00, 1.0885356e-11, 7.8712761e-09,\n",
              "        1.7258938e-09, 4.2009011e-11, 2.9347663e-11, 5.8932495e-15,\n",
              "        1.9540680e-13, 4.9244783e-13]], dtype=float32)"
            ]
          },
          "execution_count": 71,
          "metadata": {},
          "output_type": "execute_result"
        }
      ],
      "source": [
        "pred_prob = model.predict(np.expand_dims(Cloth_Pred, 0))\n",
        "pred_prob"
      ]
    },
    {
      "cell_type": "code",
      "execution_count": null,
      "metadata": {
        "id": "VjuDSfwTV4Xc",
        "outputId": "831baada-78b5-47a2-b486-e78162f0f671"
      },
      "outputs": [
        {
          "data": {
            "text/plain": [
              "1"
            ]
          },
          "execution_count": 72,
          "metadata": {},
          "output_type": "execute_result"
        }
      ],
      "source": [
        "# Indeed 1 is trouser\n",
        "# Remember the classes?\n",
        "# 0\t    T-shirt/top\n",
        "# 1\t    Trouser\n",
        "# 2\t    Pullover\n",
        "# 3\t    Dress\n",
        "# 4\t    Coat\n",
        "# 5\t    Sandal\n",
        "# 6\t    Shirt\n",
        "# 7\t    Sneaker\n",
        "# 8\t    Bag\n",
        "# 9\t    Ankle boot\n",
        "#------------------------------------------------------------------------------------------------------\n",
        "y_pred = np.argmax(pred_prob)\n",
        "y_pred"
      ]
    },
    {
      "cell_type": "markdown",
      "metadata": {
        "id": "zDkf-uRqV4Xc"
      },
      "source": [
        "# End\n"
      ]
    }
  ],
  "metadata": {
    "kernelspec": {
      "display_name": "Python 3 (ipykernel)",
      "language": "python",
      "name": "python3"
    },
    "language_info": {
      "codemirror_mode": {
        "name": "ipython",
        "version": 3
      },
      "file_extension": ".py",
      "mimetype": "text/x-python",
      "name": "python",
      "nbconvert_exporter": "python",
      "pygments_lexer": "ipython3",
      "version": "3.9.18"
    },
    "toc": {
      "base_numbering": 1,
      "nav_menu": {},
      "number_sections": false,
      "sideBar": true,
      "skip_h1_title": false,
      "title_cell": "Table of Contents",
      "title_sidebar": "Contents",
      "toc_cell": false,
      "toc_position": {},
      "toc_section_display": true,
      "toc_window_display": true
    },
    "colab": {
      "provenance": []
    }
  },
  "nbformat": 4,
  "nbformat_minor": 0
}